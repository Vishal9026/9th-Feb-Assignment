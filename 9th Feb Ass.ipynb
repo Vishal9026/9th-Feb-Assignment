{
 "cells": [
  {
   "cell_type": "code",
   "execution_count": 19,
   "id": "8f9dfdaa-332f-492d-97bb-d54759963021",
   "metadata": {},
   "outputs": [
    {
     "data": {
      "text/plain": [
       "'suzuki'"
      ]
     },
     "execution_count": 19,
     "metadata": {},
     "output_type": "execute_result"
    }
   ],
   "source": [
    "# ANSWER-1)\n",
    "class vehicle :\n",
    "    def __init__(self,name_of_vehicle,max_speed,average_of_speed):\n",
    "        self.name_of_vehicle=name_of_vehicle\n",
    "        self.max_speed=max_speed\n",
    "        self.average_of_speed=average_of_speed\n",
    "    def vehicle_details(self) :\n",
    "        return self.name_of_vehicle,self.average_of_speed,self.max_speed\n",
    "car= vehicle('suzuki','120',80)\n",
    "car.name_of_vehicle\n",
    "# car.vehicle_details()\n",
    "\n"
   ]
  },
  {
   "cell_type": "code",
   "execution_count": 25,
   "id": "85a76fd3-ef9a-41da-a95b-4475a02366e6",
   "metadata": {},
   "outputs": [
    {
     "name": "stdout",
     "output_type": "stream",
     "text": [
      "KIA has a seating capacity of 5 people.\n",
      "('KIA', 50, 200)\n"
     ]
    }
   ],
   "source": [
    "# ANSWER-2)\n",
    "class car(vehicle):\n",
    "    def seating_capacity(self,capacity):\n",
    "        return f\"{self.name_of_vehicle} has a seating capacity of {capacity} people.\"\n",
    "car = car('KIA',200,50)\n",
    "print(car.seating_capacity(5))\n",
    "print(car.vehicle_details())    \n",
    "        "
   ]
  },
  {
   "cell_type": "code",
   "execution_count": 29,
   "id": "a29f1c47-717e-4265-b829-3bf9ea50aa72",
   "metadata": {},
   "outputs": [],
   "source": [
    "# ANSWER-3)When a class is derived from more than one base class it is called multiple Inheritance. The derived class inherits all the features of the base case.\n",
    "class class1 :\n",
    "    def test1(self):\n",
    "        return 'i am try to learn python'\n",
    "        \n",
    "class class2 :\n",
    "    def test2(self):\n",
    "        return 'i am learn OOPs'\n",
    "\n",
    "    \n",
    "class class3(class1,class2):\n",
    "    pass"
   ]
  },
  {
   "cell_type": "code",
   "execution_count": 30,
   "id": "8cf9b4cf-5a01-457d-80e8-bce197266f90",
   "metadata": {},
   "outputs": [],
   "source": [
    "class3 = class3()"
   ]
  },
  {
   "cell_type": "code",
   "execution_count": 32,
   "id": "9ef92eb3-1bfc-441a-923c-527a64e81518",
   "metadata": {},
   "outputs": [
    {
     "data": {
      "text/plain": [
       "'i am try to learn python'"
      ]
     },
     "execution_count": 32,
     "metadata": {},
     "output_type": "execute_result"
    }
   ],
   "source": [
    "class3.test1()"
   ]
  },
  {
   "cell_type": "code",
   "execution_count": 33,
   "id": "b159c0b2-f529-40b1-8722-890c04fd6434",
   "metadata": {},
   "outputs": [
    {
     "data": {
      "text/plain": [
       "'i am learn OOPs'"
      ]
     },
     "execution_count": 33,
     "metadata": {},
     "output_type": "execute_result"
    }
   ],
   "source": [
    "class3.test2()"
   ]
  },
  {
   "cell_type": "code",
   "execution_count": 43,
   "id": "b4b0164b-3b5a-46a3-98c8-f2a2443f08a7",
   "metadata": {},
   "outputs": [],
   "source": [
    "# ANSWER-4)Getters: These are the methods used in Object-Oriented Programming (OOPS) which helps to access the private attributes from a class. \n",
    "# Setters: These are the methods used in OOPS feature which helps to set the value to private attributes in a class.\n",
    "class vehicle:\n",
    "    def __init__(self,vehicle_name,vehicle_price):\n",
    "        self.vehicle_name=vehicle_name\n",
    "        self.__vehicle_price = vehicle_price\n",
    "        \n",
    "        \n",
    "    @property\n",
    "    def vehicle_price_access(self):\n",
    "        return self.__vehicle_price\n",
    "    \n",
    "    @vehicle_price_access.setter\n",
    "    def vehicle_price_set(self,price):\n",
    "        if price<=100000:\n",
    "            pass\n",
    "        else:\n",
    "            self.__vehicle_price = price"
   ]
  },
  {
   "cell_type": "code",
   "execution_count": 44,
   "id": "728f0653-ccee-48b3-bde2-01d8768aaf02",
   "metadata": {},
   "outputs": [],
   "source": [
    "car = vehicle('bmw',100000)"
   ]
  },
  {
   "cell_type": "code",
   "execution_count": 45,
   "id": "21227d1a-6768-4e4a-8d8c-84a256be1b57",
   "metadata": {},
   "outputs": [
    {
     "data": {
      "text/plain": [
       "100000"
      ]
     },
     "execution_count": 45,
     "metadata": {},
     "output_type": "execute_result"
    }
   ],
   "source": [
    "car.vehicle_price_access"
   ]
  },
  {
   "cell_type": "code",
   "execution_count": 37,
   "id": "adb89a11-1ed0-4885-aeba-e27890c5d786",
   "metadata": {},
   "outputs": [
    {
     "data": {
      "text/plain": [
       "'bmw'"
      ]
     },
     "execution_count": 37,
     "metadata": {},
     "output_type": "execute_result"
    }
   ],
   "source": [
    "car.vehicle_name\n"
   ]
  },
  {
   "cell_type": "code",
   "execution_count": 46,
   "id": "410bc8db-7afa-4bde-b659-affbe798ff40",
   "metadata": {},
   "outputs": [],
   "source": [
    "car.vehicle_price_set = 1000"
   ]
  },
  {
   "cell_type": "code",
   "execution_count": 47,
   "id": "ea9f0eb5-c49a-46ed-9b29-720bb2838205",
   "metadata": {},
   "outputs": [
    {
     "data": {
      "text/plain": [
       "100000"
      ]
     },
     "execution_count": 47,
     "metadata": {},
     "output_type": "execute_result"
    }
   ],
   "source": [
    "car.vehicle_price_access"
   ]
  },
  {
   "cell_type": "code",
   "execution_count": 48,
   "id": "d5faef48-d5a5-4cef-866b-5c064b91bba4",
   "metadata": {},
   "outputs": [],
   "source": [
    "# ANSWER-5)Method Overriding in Python is an OOPs concept closely related to inheritance. When a child class method overrides(or, provides it's own implementation) the parent class method of the same name, parameters and return type, it is known as method overriding.\n",
    "# Defining parent class 1\n",
    "class Parent1():\n",
    "          \n",
    "    # Parent's show method\n",
    "    def show(self):\n",
    "        print(\"Inside Parent1\")\n",
    "          \n",
    "# Defining Parent class 2\n",
    "class Parent2():\n",
    "          \n",
    "    # Parent's show method\n",
    "    def display(self):\n",
    "        print(\"Inside Parent2\")\n",
    "          \n",
    "          \n",
    "# Defining child class\n",
    "class Child(Parent1, Parent2):\n",
    "          \n",
    "    # Child's show method\n",
    "    def show(self):\n",
    "        print(\"Inside Child\")"
   ]
  },
  {
   "cell_type": "code",
   "execution_count": 50,
   "id": "29378e82-d367-406f-ba6c-f91ae889ca18",
   "metadata": {},
   "outputs": [],
   "source": [
    "obj = Child()"
   ]
  },
  {
   "cell_type": "code",
   "execution_count": 51,
   "id": "66686c05-56f5-44fb-870d-4b3b34f556dd",
   "metadata": {},
   "outputs": [
    {
     "name": "stdout",
     "output_type": "stream",
     "text": [
      "Inside Child\n"
     ]
    }
   ],
   "source": [
    "obj.show()"
   ]
  },
  {
   "cell_type": "code",
   "execution_count": 52,
   "id": "7a74fd04-5719-4472-8468-7640cdd40fb4",
   "metadata": {},
   "outputs": [
    {
     "name": "stdout",
     "output_type": "stream",
     "text": [
      "Inside Parent2\n"
     ]
    }
   ],
   "source": [
    "obj.display()"
   ]
  },
  {
   "cell_type": "code",
   "execution_count": null,
   "id": "eff6e05f-abde-4564-8eec-821c6961b2af",
   "metadata": {},
   "outputs": [],
   "source": []
  }
 ],
 "metadata": {
  "kernelspec": {
   "display_name": "Python 3 (ipykernel)",
   "language": "python",
   "name": "python3"
  },
  "language_info": {
   "codemirror_mode": {
    "name": "ipython",
    "version": 3
   },
   "file_extension": ".py",
   "mimetype": "text/x-python",
   "name": "python",
   "nbconvert_exporter": "python",
   "pygments_lexer": "ipython3",
   "version": "3.10.8"
  }
 },
 "nbformat": 4,
 "nbformat_minor": 5
}
